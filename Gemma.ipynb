{
 "cells": [
  {
   "cell_type": "code",
   "execution_count": null,
   "id": "3f117f67",
   "metadata": {},
   "outputs": [],
   "source": [
    "import sys\n",
    "sys.path.append('/home/dhaya/projects/mytinygrad/tinygrad')"
   ]
  },
  {
   "cell_type": "code",
   "execution_count": null,
   "id": "37e34202",
   "metadata": {},
   "outputs": [],
   "source": [
    "import examples.gemma as ge"
   ]
  },
  {
   "cell_type": "code",
   "execution_count": null,
   "id": "a386190e",
   "metadata": {},
   "outputs": [],
   "source": [
    "info, tensorinfo = ge.load_gguf(ge.WEIGHTS_FILE)"
   ]
  },
  {
   "cell_type": "code",
   "execution_count": null,
   "id": "540b02c5",
   "metadata": {},
   "outputs": [],
   "source": [
    "sp = ge.load_tokenizer(info)"
   ]
  },
  {
   "cell_type": "code",
   "execution_count": null,
   "id": "04481bae",
   "metadata": {},
   "outputs": [],
   "source": [
    "sp.decode(\"hello world, how are you today!\")"
   ]
  },
  {
   "cell_type": "code",
   "execution_count": null,
   "id": "a3fab8bd",
   "metadata": {},
   "outputs": [],
   "source": [
    "sp.encode('hello world. how are you today?')"
   ]
  },
  {
   "cell_type": "code",
   "execution_count": null,
   "id": "99295f4d",
   "metadata": {},
   "outputs": [],
   "source": [
    "sp.decode(sp.encode('hello world. how are you today!'))"
   ]
  },
  {
   "cell_type": "code",
   "execution_count": null,
   "id": "359c3c49",
   "metadata": {},
   "outputs": [],
   "source": []
  }
 ],
 "metadata": {
  "kernelspec": {
   "display_name": "Tinygrad",
   "language": "python",
   "name": "tinygrad-seq2seq"
  },
  "language_info": {
   "codemirror_mode": {
    "name": "ipython",
    "version": 3
   },
   "file_extension": ".py",
   "mimetype": "text/x-python",
   "name": "python",
   "nbconvert_exporter": "python",
   "pygments_lexer": "ipython3",
   "version": "3.8.18"
  }
 },
 "nbformat": 4,
 "nbformat_minor": 5
}
